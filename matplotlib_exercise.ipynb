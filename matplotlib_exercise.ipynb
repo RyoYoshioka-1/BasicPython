{
 "cells": [
  {
   "attachments": {},
   "cell_type": "markdown",
   "metadata": {},
   "source": [
    "# 【確認課題】Matplotlib"
   ]
  },
  {
   "cell_type": "code",
   "execution_count": null,
   "metadata": {
    "colab": {
     "base_uri": "https://localhost:8080/"
    },
    "id": "oA__biOqYxYz",
    "outputId": "861c2ef1-7ff1-43b7-962f-21eeaedc5955"
   },
   "outputs": [
    {
     "name": "stdout",
     "output_type": "stream",
     "text": [
      "Requirement already satisfied: japanize-matplotlib in /usr/local/lib/python3.7/dist-packages (1.1.3)\n",
      "Requirement already satisfied: matplotlib in /usr/local/lib/python3.7/dist-packages (from japanize-matplotlib) (3.2.2)\n",
      "Requirement already satisfied: numpy>=1.11 in /usr/local/lib/python3.7/dist-packages (from matplotlib->japanize-matplotlib) (1.21.5)\n",
      "Requirement already satisfied: python-dateutil>=2.1 in /usr/local/lib/python3.7/dist-packages (from matplotlib->japanize-matplotlib) (2.8.2)\n",
      "Requirement already satisfied: cycler>=0.10 in /usr/local/lib/python3.7/dist-packages (from matplotlib->japanize-matplotlib) (0.11.0)\n",
      "Requirement already satisfied: pyparsing!=2.0.4,!=2.1.2,!=2.1.6,>=2.0.1 in /usr/local/lib/python3.7/dist-packages (from matplotlib->japanize-matplotlib) (3.0.7)\n",
      "Requirement already satisfied: kiwisolver>=1.0.1 in /usr/local/lib/python3.7/dist-packages (from matplotlib->japanize-matplotlib) (1.3.2)\n",
      "Requirement already satisfied: six>=1.5 in /usr/local/lib/python3.7/dist-packages (from python-dateutil>=2.1->matplotlib->japanize-matplotlib) (1.15.0)\n"
     ]
    }
   ],
   "source": [
    "# 使うライブラリ\n",
    "'''\n",
    "python3.12以降を使用してる場合、japanize-matplotlibは使えません。\n",
    "その場合、matplotlib-fontjaを使用してください。\n",
    "'''\n",
    "# !pip install matplotlib-fontja\n",
    "\n",
    "import matplotlib.pyplot as plt\n",
    "import pandas as pd\n",
    "import numpy as np\n",
    "import japanize_matplotlib\n",
    "japanize_matplotlib.japanize()\n",
    "# import matplotlib_fontja"
   ]
  },
  {
   "cell_type": "markdown",
   "metadata": {
    "id": "HRKA_3p08Dmc"
   },
   "source": [
    "## 1問目\n",
    "使うcsvはhist_data.csvです。下にコードを書いてください。"
   ]
  },
  {
   "attachments": {},
   "cell_type": "markdown",
   "metadata": {},
   "source": [
    "![問1](./imgs/matplotlib/plot_1.png)"
   ]
  },
  {
   "cell_type": "code",
   "execution_count": null,
   "metadata": {
    "id": "GCCj__JQ8W7g"
   },
   "outputs": [],
   "source": [
    "import seaborn as sns\n",
    "df = pd.read_csv(\"data/hist_data.csv\")\n",
    "data1 = df[\"aデータ\"]\n",
    "data2 = df[\"bデータ\"]\n",
    "sns.histplot(data1, bins=30, color=\"orange\", label=\"温度\", alpha=0.6)\n",
    "sns.histplot(data2, bins=30, color=\"blue\", label=\"温度\", alpha=0.6)\n",
    "\n",
    "plt.title(\"\")\n",
    "plt.xlabel(\"°C\")\n",
    "plt.ylabel(\"\")\n",
    "plt.legend()\n",
    "plt.show()"
   ]
  },
  {
   "cell_type": "markdown",
   "metadata": {
    "id": "pT8UYFen8K7U"
   },
   "source": [
    "## 2問目\n",
    "使うcsvはscatter_data.csvです。下にコードを書いてください。"
   ]
  },
  {
   "attachments": {},
   "cell_type": "markdown",
   "metadata": {
    "id": "YzmZ7mj08TqY"
   },
   "source": [
    "![問2](./imgs/matplotlib/plot_2.png)"
   ]
  },
  {
   "cell_type": "code",
   "execution_count": null,
   "metadata": {
    "id": "EYIuwyqP8XTD"
   },
   "outputs": [],
   "source": [
    "df2 = pd.read_csv(\"data/scatter_data.csv\")\n",
    "class0 = df2[df2[\"class\"] == 0]\n",
    "class1 = df2[df2[\"class\"] == 1]\n",
    "class2 = df2[df2[\"class\"] == 2]\n",
    "\n",
    "class0 = class0.drop(\"class\", axis=1)\n",
    "class1 = class1.drop(\"class\", axis=1)\n",
    "class2 = class2.drop(\"class\", axis=1)\n",
    "sns.scatterplot(data=class0, x=\"length (cm)\", y=\"width (cm)\", color=\"red\", label=\"Class 0\")\n",
    "sns.scatterplot(data=class1, x=\"length (cm)\", y=\"width (cm)\", color=\"blue\", label=\"Class 1\")\n",
    "sns.scatterplot(data=class2, x=\"length (cm)\", y=\"width (cm)\", color=\"green\", label=\"Class 2\")\n",
    "\n",
    "plt.xlabel(\"lengh(cm)\")\n",
    "plt.ylabel(\"width(cm)\")\n",
    "plt.grid(color='gray', axis='both')\n",
    "plt.legend()\n",
    "plt.show()"
   ]
  },
  {
   "cell_type": "markdown",
   "metadata": {
    "id": "WxPGLz5o8YU8"
   },
   "source": [
    "## 3問目\n",
    "使うcsvはline_data.csvです。下に2つの画像を表示するコードを書いてください。"
   ]
  },
  {
   "attachments": {},
   "cell_type": "markdown",
   "metadata": {
    "id": "qx7c1zxf8bGD"
   },
   "source": [
    "![問3_1](./imgs/matplotlib/plot_3_1.png)"
   ]
  },
  {
   "attachments": {},
   "cell_type": "markdown",
   "metadata": {
    "id": "JF0_aIxn8oef"
   },
   "source": [
    "![問3_2](./imgs/matplotlib/plot_3_2.png)"
   ]
  },
  {
   "cell_type": "code",
   "execution_count": null,
   "metadata": {
    "id": "zD89wlL08sDW"
   },
   "outputs": [],
   "source": [
    "df3 = pd.read_csv(\"data/line_data.csv\")\n",
    "\n",
    "df3_line = df3.groupby(\"期間\")[\"件数\"].sum()\n",
    "plt.plot(df3_line.index, df3_line.values)\n",
    "plt.grid(color=\"gray\")\n",
    "plt.show()\n",
    "\n",
    "df3_hist = df3.groupby(\"期間\")[\"費用\"].sum()\n",
    "plt.bar(x=df3_hist.index, height=df3_hist.values)\n",
    "plt.xlabel(\"期間\")\n",
    "plt.ylabel(\"費用\")\n",
    "plt.title(\"期間ごとの費用合計\")\n",
    "plt.grid(color=\"gray\")\n",
    "plt.show()"
   ]
  }
 ],
 "metadata": {
  "colab": {
   "collapsed_sections": [],
   "name": "可視化問題.ipynb",
   "provenance": []
  },
  "kernelspec": {
   "display_name": "Python 3",
   "name": "python3"
  },
  "language_info": {
   "name": "python"
  }
 },
 "nbformat": 4,
 "nbformat_minor": 0
}
